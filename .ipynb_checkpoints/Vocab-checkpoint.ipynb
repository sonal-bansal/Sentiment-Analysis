{
 "cells": [
  {
   "cell_type": "code",
   "execution_count": 1,
   "metadata": {},
   "outputs": [
    {
     "ename": "ModuleNotFoundError",
     "evalue": "No module named 'textblob'",
     "output_type": "error",
     "traceback": [
      "\u001b[1;31m---------------------------------------------------------------------------\u001b[0m",
      "\u001b[1;31mModuleNotFoundError\u001b[0m                       Traceback (most recent call last)",
      "\u001b[1;32m<ipython-input-1-c4276349842f>\u001b[0m in \u001b[0;36m<module>\u001b[1;34m()\u001b[0m\n\u001b[0;32m      1\u001b[0m \u001b[1;32mimport\u001b[0m \u001b[0mpandas\u001b[0m \u001b[1;32mas\u001b[0m \u001b[0mpd\u001b[0m\u001b[1;33m\u001b[0m\u001b[0m\n\u001b[0;32m      2\u001b[0m \u001b[1;32mfrom\u001b[0m \u001b[0mnltk\u001b[0m \u001b[1;32mimport\u001b[0m \u001b[0mword_tokenize\u001b[0m\u001b[1;33m,\u001b[0m \u001b[0mpos_tag\u001b[0m\u001b[1;33m,\u001b[0m \u001b[0mne_chunk\u001b[0m\u001b[1;33m,\u001b[0m \u001b[0mconlltags2tree\u001b[0m\u001b[1;33m,\u001b[0m \u001b[0mtree2conlltags\u001b[0m\u001b[1;33m\u001b[0m\u001b[0m\n\u001b[1;32m----> 3\u001b[1;33m \u001b[1;32mfrom\u001b[0m \u001b[0mtextblob\u001b[0m \u001b[1;32mimport\u001b[0m \u001b[0mTextBlob\u001b[0m\u001b[1;33m\u001b[0m\u001b[0m\n\u001b[0m\u001b[0;32m      4\u001b[0m \u001b[1;32mfrom\u001b[0m \u001b[0mtextblob\u001b[0m\u001b[1;33m.\u001b[0m\u001b[0msentiments\u001b[0m \u001b[1;32mimport\u001b[0m \u001b[0mNaiveBayesAnalyzer\u001b[0m\u001b[1;33m\u001b[0m\u001b[0m\n\u001b[0;32m      5\u001b[0m \u001b[1;32mimport\u001b[0m \u001b[0mnltk\u001b[0m\u001b[1;33m\u001b[0m\u001b[0m\n",
      "\u001b[1;31mModuleNotFoundError\u001b[0m: No module named 'textblob'"
     ]
    }
   ],
   "source": [
    "import pandas as pd\n",
    "from nltk import word_tokenize, pos_tag, ne_chunk, conlltags2tree, tree2conlltags\n",
    "from textblob import TextBlob\n",
    "from textblob.sentiments import NaiveBayesAnalyzer\n",
    "import nltk\n",
    "from nltk.corpus import stopwords\n",
    "import re"
   ]
  },
  {
   "cell_type": "code",
   "execution_count": null,
   "metadata": {},
   "outputs": [],
   "source": [
    "'''sentence = \"Mark and John are working at Google. They hate being there.\"\n",
    "sonal = TextBlob(sentence, analyzer = NaiveBayesAnalyzer())\n",
    "print(tree2conlltags(ne_chunk(pos_tag(word_tokenize(sentence)))))'''"
   ]
  },
  {
   "cell_type": "code",
   "execution_count": 91,
   "metadata": {},
   "outputs": [
    {
     "name": "stdout",
     "output_type": "stream",
     "text": [
      "400001\n"
     ]
    },
    {
     "name": "stderr",
     "output_type": "stream",
     "text": [
      "100%|██████████████████████████████████████████████████████████████████████| 400001/400001 [00:00<00:00, 704632.81it/s]\n",
      "100%|████████████████████████████████████████████████████████████████████████| 399969/399969 [02:31<00:00, 2638.86it/s]\n"
     ]
    },
    {
     "name": "stdout",
     "output_type": "stream",
     "text": [
      "399820\n"
     ]
    }
   ],
   "source": [
    "import string\n",
    "from tqdm import tqdm\n",
    "f = open('C:\\\\Users\\\\Aakash Rustagi\\\\Desktop\\\\arbunize\\\\vocab.txt', 'r', encoding = 'Latin')\n",
    "li = f.readlines()\n",
    "print(len(li))\n",
    "li = [items.rstrip('\\n').lower() for items in li]\n",
    "\n",
    "li_new = []\n",
    "for items in li:\n",
    "    new_item =re.sub(r'[^a-zA-Z]','',items)\n",
    "    if new_item ! ='':\n",
    "        li_new.append(new_item)\n",
    "#li = [item for item in tqdm(li) if not item in list(string.punctuation)]\n",
    "li = [word for word in tqdm (li) if not word in stopwords.words('english')]\n",
    "print(len(li))\n",
    "    "
   ]
  },
  {
   "cell_type": "code",
   "execution_count": 92,
   "metadata": {},
   "outputs": [
    {
     "name": "stdout",
     "output_type": "stream",
     "text": [
      "[\"'s\", 'said', \"''\", '``', 'one', 'new', 'also', 'would', 'two', 'first', 'year', '--', 'people', \"n't\", 'percent', 'last', 'government', 'time', 'years', 'world']\n"
     ]
    }
   ],
   "source": [
    "print(li[:20])"
   ]
  },
  {
   "cell_type": "code",
   "execution_count": null,
   "metadata": {},
   "outputs": [],
   "source": []
  }
 ],
 "metadata": {
  "kernelspec": {
   "display_name": "Python 3",
   "language": "python",
   "name": "python3"
  }
 },
 "nbformat": 4,
 "nbformat_minor": 2
}
