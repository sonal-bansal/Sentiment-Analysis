{
 "cells": [
  {
   "cell_type": "code",
   "execution_count": 1,
   "metadata": {},
   "outputs": [],
   "source": [
    "import pandas as pd\n",
    "from nltk import word_tokenize, pos_tag, ne_chunk, conlltags2tree, tree2conlltags\n",
    "from textblob import TextBlob\n",
    "from textblob.sentiments import NaiveBayesAnalyzer\n",
    "import nltk\n",
    "from nltk.corpus import stopwords\n",
    "import re"
   ]
  },
  {
   "cell_type": "code",
   "execution_count": 2,
   "metadata": {
    "scrolled": true
   },
   "outputs": [
    {
     "data": {
      "text/plain": [
       "'sentence = \"Mark and John are working at Google. They hate being there.\"\\nsonal = TextBlob(sentence, analyzer = NaiveBayesAnalyzer())\\nprint(tree2conlltags(ne_chunk(pos_tag(word_tokenize(sentence)))))'"
      ]
     },
     "execution_count": 2,
     "metadata": {},
     "output_type": "execute_result"
    }
   ],
   "source": [
    "'''sentence = \"Mark and John are working at Google. They hate being there.\"\n",
    "sonal = TextBlob(sentence, analyzer = NaiveBayesAnalyzer())\n",
    "print(tree2conlltags(ne_chunk(pos_tag(word_tokenize(sentence)))))'''"
   ]
  },
  {
   "cell_type": "code",
   "execution_count": 3,
   "metadata": {},
   "outputs": [
    {
     "name": "stdout",
     "output_type": "stream",
     "text": [
      "400001\n"
     ]
    },
    {
     "name": "stderr",
     "output_type": "stream",
     "text": [
      "100%|████████████████████████████████████████████████████████████████████████| 365827/365827 [02:41<00:00, 2259.53it/s]\n"
     ]
    },
    {
     "name": "stdout",
     "output_type": "stream",
     "text": [
      "363334\n"
     ]
    }
   ],
   "source": [
    "import string\n",
    "from tqdm import tqdm\n",
    "from nltk.stem.snowball import SnowballStemmer\n",
    "ps = SnowballStemmer(\"english\")\n",
    "f = open('C:\\\\Users\\\\Aakash Rustagi\\\\Desktop\\\\arbunize\\\\vocab.txt', 'r', encoding = 'utf-8')\n",
    "li = f.readlines()\n",
    "print(len(li))\n",
    "li_new = []\n",
    "li = [items.rstrip('\\n').lower() for items in li]\n",
    "for items in li : \n",
    "    new_item = re.sub(r'[^a-zA-Z]', '', items)\n",
    "    if new_item != '':\n",
    "        li_new.append(new_item)\n",
    "li_new = [ps.stem(word) for word in tqdm(li_new) if not word in stopwords.words('english')]\n",
    "print(len(li_new))\n",
    "    "
   ]
  },
  {
   "cell_type": "code",
   "execution_count": null,
   "metadata": {},
   "outputs": [
    {
     "name": "stderr",
     "output_type": "stream",
     "text": [
      "  3%|██▍                                                                      | 12187/363334 [07:49<3:45:34, 25.95it/s]"
     ]
    }
   ],
   "source": [
    "li_new = [TextBlob(item).correct() for item in tqdm(li_new)]"
   ]
  },
  {
   "cell_type": "code",
   "execution_count": null,
   "metadata": {},
   "outputs": [],
   "source": [
    "print(li_new[12])"
   ]
  },
  {
   "cell_type": "code",
   "execution_count": null,
   "metadata": {},
   "outputs": [],
   "source": []
  }
 ],
 "metadata": {
  "kernelspec": {
   "display_name": "Python 3",
   "language": "python",
   "name": "python3"
  },
  "language_info": {
   "codemirror_mode": {
    "name": "ipython",
    "version": 3
   },
   "file_extension": ".py",
   "mimetype": "text/x-python",
   "name": "python",
   "nbconvert_exporter": "python",
   "pygments_lexer": "ipython3",
   "version": "3.6.4"
  }
 },
 "nbformat": 4,
 "nbformat_minor": 2
}
